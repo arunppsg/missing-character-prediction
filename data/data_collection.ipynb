{
 "cells": [
  {
   "cell_type": "code",
   "execution_count": 1,
   "id": "5f7ae46a",
   "metadata": {},
   "outputs": [],
   "source": [
    "from bs4 import BeautifulSoup\n",
    "import requests\n",
    "import pandas as pd"
   ]
  },
  {
   "cell_type": "markdown",
   "id": "926115b5",
   "metadata": {},
   "source": [
    "## Collecting raw data"
   ]
  },
  {
   "cell_type": "code",
   "execution_count": 2,
   "id": "caf4b8ef",
   "metadata": {},
   "outputs": [],
   "source": [
    "respond = requests.get(\"https://en.wikipedia.org/wiki/Wikipedia\")\n",
    "soup = BeautifulSoup(respond.text)\n",
    "paras = soup.find_all('p')\n",
    "raw_words = []\n",
    "for para in paras:\n",
    "    line = para.text\n",
    "    line = line.strip('\\n').split(' ')\n",
    "    raw_words.extend(line)"
   ]
  },
  {
   "cell_type": "markdown",
   "id": "863ba0af",
   "metadata": {},
   "source": [
    "## Cleaning data"
   ]
  },
  {
   "cell_type": "code",
   "execution_count": 3,
   "id": "43558622",
   "metadata": {},
   "outputs": [],
   "source": [
    "import re\n",
    "regex = re.compile('[^a-zA-Z]')\n",
    "\n",
    "words = []\n",
    "for i, word in enumerate(raw_words):\n",
    "    word = regex.sub('', word).lower()\n",
    "    if len(word) > 0:\n",
    "        words.append(word)\n"
   ]
  },
  {
   "cell_type": "code",
   "execution_count": 4,
   "id": "4ef223e5",
   "metadata": {},
   "outputs": [],
   "source": [
    "data = pd.DataFrame({'words': words})\n",
    "data.to_csv('words.csv', index=False)"
   ]
  }
 ],
 "metadata": {
  "kernelspec": {
   "display_name": "Python 3 (ipykernel)",
   "language": "python",
   "name": "python3"
  },
  "language_info": {
   "codemirror_mode": {
    "name": "ipython",
    "version": 3
   },
   "file_extension": ".py",
   "mimetype": "text/x-python",
   "name": "python",
   "nbconvert_exporter": "python",
   "pygments_lexer": "ipython3",
   "version": "3.8.5"
  }
 },
 "nbformat": 4,
 "nbformat_minor": 5
}
